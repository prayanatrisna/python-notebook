{
 "cells": [
  {
   "cell_type": "markdown",
   "metadata": {},
   "source": [
    "#### Mengimport semua library yang dibutuhkan"
   ]
  },
  {
   "cell_type": "code",
   "execution_count": 142,
   "metadata": {},
   "outputs": [],
   "source": [
    "import pandas as pd\n",
    "import seaborn as sns\n",
    "import numpy as np"
   ]
  },
  {
   "cell_type": "markdown",
   "metadata": {},
   "source": [
    "#### Mengambil data"
   ]
  },
  {
   "cell_type": "code",
   "execution_count": 10,
   "metadata": {},
   "outputs": [
    {
     "data": {
      "text/html": [
       "<div>\n",
       "<style scoped>\n",
       "    .dataframe tbody tr th:only-of-type {\n",
       "        vertical-align: middle;\n",
       "    }\n",
       "\n",
       "    .dataframe tbody tr th {\n",
       "        vertical-align: top;\n",
       "    }\n",
       "\n",
       "    .dataframe thead th {\n",
       "        text-align: right;\n",
       "    }\n",
       "</style>\n",
       "<table border=\"1\" class=\"dataframe\">\n",
       "  <thead>\n",
       "    <tr style=\"text-align: right;\">\n",
       "      <th></th>\n",
       "      <th>Cust ID</th>\n",
       "      <th>Jenis Kel</th>\n",
       "      <th>Pendapatan</th>\n",
       "      <th>Umur</th>\n",
       "      <th>Total</th>\n",
       "      <th>Rata-rata</th>\n",
       "      <th>Insidentil</th>\n",
       "      <th>Genre</th>\n",
       "      <th>Unnamed: 8</th>\n",
       "      <th>Unnamed: 9</th>\n",
       "      <th>Unnamed: 10</th>\n",
       "    </tr>\n",
       "  </thead>\n",
       "  <tbody>\n",
       "    <tr>\n",
       "      <th>0</th>\n",
       "      <td>1</td>\n",
       "      <td>M</td>\n",
       "      <td>45000</td>\n",
       "      <td>25</td>\n",
       "      <td>27</td>\n",
       "      <td>2.5</td>\n",
       "      <td>Yes</td>\n",
       "      <td>Action</td>\n",
       "      <td>NaN</td>\n",
       "      <td>NaN</td>\n",
       "      <td>NaN</td>\n",
       "    </tr>\n",
       "    <tr>\n",
       "      <th>1</th>\n",
       "      <td>2</td>\n",
       "      <td>F</td>\n",
       "      <td>54000</td>\n",
       "      <td>33</td>\n",
       "      <td>12</td>\n",
       "      <td>3.4</td>\n",
       "      <td>No</td>\n",
       "      <td>Drama</td>\n",
       "      <td>NaN</td>\n",
       "      <td>NaN</td>\n",
       "      <td>NaN</td>\n",
       "    </tr>\n",
       "    <tr>\n",
       "      <th>2</th>\n",
       "      <td>3</td>\n",
       "      <td>F</td>\n",
       "      <td>32000</td>\n",
       "      <td>20</td>\n",
       "      <td>42</td>\n",
       "      <td>1.6</td>\n",
       "      <td>No</td>\n",
       "      <td>Comedy</td>\n",
       "      <td>NaN</td>\n",
       "      <td>NaN</td>\n",
       "      <td>NaN</td>\n",
       "    </tr>\n",
       "    <tr>\n",
       "      <th>3</th>\n",
       "      <td>4</td>\n",
       "      <td>F</td>\n",
       "      <td>59000</td>\n",
       "      <td>70</td>\n",
       "      <td>16</td>\n",
       "      <td>4.2</td>\n",
       "      <td>Yes</td>\n",
       "      <td>Drama</td>\n",
       "      <td>NaN</td>\n",
       "      <td>NaN</td>\n",
       "      <td>NaN</td>\n",
       "    </tr>\n",
       "    <tr>\n",
       "      <th>4</th>\n",
       "      <td>5</td>\n",
       "      <td>M</td>\n",
       "      <td>37000</td>\n",
       "      <td>35</td>\n",
       "      <td>25</td>\n",
       "      <td>3.2</td>\n",
       "      <td>Yes</td>\n",
       "      <td>Action</td>\n",
       "      <td>NaN</td>\n",
       "      <td>NaN</td>\n",
       "      <td>NaN</td>\n",
       "    </tr>\n",
       "  </tbody>\n",
       "</table>\n",
       "</div>"
      ],
      "text/plain": [
       "   Cust ID Jenis Kel  Pendapatan  Umur  Total  Rata-rata Insidentil   Genre  \\\n",
       "0        1         M       45000    25     27        2.5        Yes  Action   \n",
       "1        2         F       54000    33     12        3.4         No   Drama   \n",
       "2        3         F       32000    20     42        1.6         No  Comedy   \n",
       "3        4         F       59000    70     16        4.2        Yes   Drama   \n",
       "4        5         M       37000    35     25        3.2        Yes  Action   \n",
       "\n",
       "   Unnamed: 8  Unnamed: 9 Unnamed: 10  \n",
       "0         NaN         NaN         NaN  \n",
       "1         NaN         NaN         NaN  \n",
       "2         NaN         NaN         NaN  \n",
       "3         NaN         NaN         NaN  \n",
       "4         NaN         NaN         NaN  "
      ]
     },
     "execution_count": 10,
     "metadata": {},
     "output_type": "execute_result"
    }
   ],
   "source": [
    "data = pd.read_excel('Video-Store.xls')\n",
    "data.head()"
   ]
  },
  {
   "cell_type": "markdown",
   "metadata": {},
   "source": [
    "#### Mengambil hanya kolom yang digunakan dalam eksplorasi"
   ]
  },
  {
   "cell_type": "code",
   "execution_count": 11,
   "metadata": {},
   "outputs": [
    {
     "data": {
      "text/html": [
       "<div>\n",
       "<style scoped>\n",
       "    .dataframe tbody tr th:only-of-type {\n",
       "        vertical-align: middle;\n",
       "    }\n",
       "\n",
       "    .dataframe tbody tr th {\n",
       "        vertical-align: top;\n",
       "    }\n",
       "\n",
       "    .dataframe thead th {\n",
       "        text-align: right;\n",
       "    }\n",
       "</style>\n",
       "<table border=\"1\" class=\"dataframe\">\n",
       "  <thead>\n",
       "    <tr style=\"text-align: right;\">\n",
       "      <th></th>\n",
       "      <th>Jenis Kel</th>\n",
       "      <th>Pendapatan</th>\n",
       "      <th>Umur</th>\n",
       "      <th>Total</th>\n",
       "      <th>Rata-rata</th>\n",
       "      <th>Insidentil</th>\n",
       "      <th>Genre</th>\n",
       "    </tr>\n",
       "  </thead>\n",
       "  <tbody>\n",
       "    <tr>\n",
       "      <th>0</th>\n",
       "      <td>M</td>\n",
       "      <td>45000</td>\n",
       "      <td>25</td>\n",
       "      <td>27</td>\n",
       "      <td>2.5</td>\n",
       "      <td>Yes</td>\n",
       "      <td>Action</td>\n",
       "    </tr>\n",
       "    <tr>\n",
       "      <th>1</th>\n",
       "      <td>F</td>\n",
       "      <td>54000</td>\n",
       "      <td>33</td>\n",
       "      <td>12</td>\n",
       "      <td>3.4</td>\n",
       "      <td>No</td>\n",
       "      <td>Drama</td>\n",
       "    </tr>\n",
       "    <tr>\n",
       "      <th>2</th>\n",
       "      <td>F</td>\n",
       "      <td>32000</td>\n",
       "      <td>20</td>\n",
       "      <td>42</td>\n",
       "      <td>1.6</td>\n",
       "      <td>No</td>\n",
       "      <td>Comedy</td>\n",
       "    </tr>\n",
       "    <tr>\n",
       "      <th>3</th>\n",
       "      <td>F</td>\n",
       "      <td>59000</td>\n",
       "      <td>70</td>\n",
       "      <td>16</td>\n",
       "      <td>4.2</td>\n",
       "      <td>Yes</td>\n",
       "      <td>Drama</td>\n",
       "    </tr>\n",
       "    <tr>\n",
       "      <th>4</th>\n",
       "      <td>M</td>\n",
       "      <td>37000</td>\n",
       "      <td>35</td>\n",
       "      <td>25</td>\n",
       "      <td>3.2</td>\n",
       "      <td>Yes</td>\n",
       "      <td>Action</td>\n",
       "    </tr>\n",
       "  </tbody>\n",
       "</table>\n",
       "</div>"
      ],
      "text/plain": [
       "  Jenis Kel  Pendapatan  Umur  Total  Rata-rata Insidentil   Genre\n",
       "0         M       45000    25     27        2.5        Yes  Action\n",
       "1         F       54000    33     12        3.4         No   Drama\n",
       "2         F       32000    20     42        1.6         No  Comedy\n",
       "3         F       59000    70     16        4.2        Yes   Drama\n",
       "4         M       37000    35     25        3.2        Yes  Action"
      ]
     },
     "execution_count": 11,
     "metadata": {},
     "output_type": "execute_result"
    }
   ],
   "source": [
    "data = data.drop('Unnamed: 8',axis=1)\n",
    "data = data.drop('Unnamed: 9',axis=1)\n",
    "data = data.drop('Unnamed: 10',axis=1)\n",
    "data = data.drop('Cust ID',axis=1)\n",
    "data.head()"
   ]
  },
  {
   "cell_type": "markdown",
   "metadata": {},
   "source": [
    "#### 1.\tExplorasi karakteristik dari data, dengan menghitung rata-rata dan standar deviasi, median, mode pada atribut numerik (Pendapatan, Umur, Total, Rata-rata).  "
   ]
  },
  {
   "cell_type": "code",
   "execution_count": 16,
   "metadata": {},
   "outputs": [
    {
     "data": {
      "text/html": [
       "<div>\n",
       "<style scoped>\n",
       "    .dataframe tbody tr th:only-of-type {\n",
       "        vertical-align: middle;\n",
       "    }\n",
       "\n",
       "    .dataframe tbody tr th {\n",
       "        vertical-align: top;\n",
       "    }\n",
       "\n",
       "    .dataframe thead th {\n",
       "        text-align: right;\n",
       "    }\n",
       "</style>\n",
       "<table border=\"1\" class=\"dataframe\">\n",
       "  <thead>\n",
       "    <tr style=\"text-align: right;\">\n",
       "      <th></th>\n",
       "      <th>Pendapatan</th>\n",
       "      <th>Umur</th>\n",
       "      <th>Total</th>\n",
       "      <th>Rata-rata</th>\n",
       "    </tr>\n",
       "  </thead>\n",
       "  <tbody>\n",
       "    <tr>\n",
       "      <th>count</th>\n",
       "      <td>50.000000</td>\n",
       "      <td>50.000000</td>\n",
       "      <td>50.000000</td>\n",
       "      <td>50.000000</td>\n",
       "    </tr>\n",
       "    <tr>\n",
       "      <th>mean</th>\n",
       "      <td>42300.000000</td>\n",
       "      <td>31.560000</td>\n",
       "      <td>26.240000</td>\n",
       "      <td>2.748000</td>\n",
       "    </tr>\n",
       "    <tr>\n",
       "      <th>std</th>\n",
       "      <td>21409.753642</td>\n",
       "      <td>12.000272</td>\n",
       "      <td>10.027635</td>\n",
       "      <td>0.898125</td>\n",
       "    </tr>\n",
       "    <tr>\n",
       "      <th>min</th>\n",
       "      <td>1000.000000</td>\n",
       "      <td>15.000000</td>\n",
       "      <td>9.000000</td>\n",
       "      <td>1.100000</td>\n",
       "    </tr>\n",
       "    <tr>\n",
       "      <th>25%</th>\n",
       "      <td>26750.000000</td>\n",
       "      <td>22.000000</td>\n",
       "      <td>19.000000</td>\n",
       "      <td>2.125000</td>\n",
       "    </tr>\n",
       "    <tr>\n",
       "      <th>50%</th>\n",
       "      <td>41000.000000</td>\n",
       "      <td>30.000000</td>\n",
       "      <td>25.000000</td>\n",
       "      <td>2.750000</td>\n",
       "    </tr>\n",
       "    <tr>\n",
       "      <th>75%</th>\n",
       "      <td>56750.000000</td>\n",
       "      <td>37.500000</td>\n",
       "      <td>32.750000</td>\n",
       "      <td>3.375000</td>\n",
       "    </tr>\n",
       "    <tr>\n",
       "      <th>max</th>\n",
       "      <td>89000.000000</td>\n",
       "      <td>70.000000</td>\n",
       "      <td>48.000000</td>\n",
       "      <td>4.700000</td>\n",
       "    </tr>\n",
       "  </tbody>\n",
       "</table>\n",
       "</div>"
      ],
      "text/plain": [
       "         Pendapatan       Umur      Total  Rata-rata\n",
       "count     50.000000  50.000000  50.000000  50.000000\n",
       "mean   42300.000000  31.560000  26.240000   2.748000\n",
       "std    21409.753642  12.000272  10.027635   0.898125\n",
       "min     1000.000000  15.000000   9.000000   1.100000\n",
       "25%    26750.000000  22.000000  19.000000   2.125000\n",
       "50%    41000.000000  30.000000  25.000000   2.750000\n",
       "75%    56750.000000  37.500000  32.750000   3.375000\n",
       "max    89000.000000  70.000000  48.000000   4.700000"
      ]
     },
     "execution_count": 16,
     "metadata": {},
     "output_type": "execute_result"
    }
   ],
   "source": [
    "data.describe()"
   ]
  },
  {
   "cell_type": "markdown",
   "metadata": {},
   "source": [
    "#### 2.\tHitung rata-rata pendapatan pelanggan pria (M) dan pelanggan wanita (F). Rata-rata pendapatan mana yang lebih tinggi dari rata-rata keseluruhan pelanggan?"
   ]
  },
  {
   "cell_type": "code",
   "execution_count": 67,
   "metadata": {},
   "outputs": [
    {
     "name": "stdout",
     "output_type": "stream",
     "text": [
      "Pendapatan seluruh pegawai: 42300.0\n"
     ]
    }
   ],
   "source": [
    "print('Pendapatan seluruh pegawai:',data.mean()['Pendapatan'])"
   ]
  },
  {
   "cell_type": "code",
   "execution_count": 66,
   "metadata": {},
   "outputs": [
    {
     "data": {
      "text/plain": [
       "Jenis Kel\n",
       "F    43708.333333\n",
       "M    41000.000000\n",
       "Name: Pendapatan, dtype: float64"
      ]
     },
     "execution_count": 66,
     "metadata": {},
     "output_type": "execute_result"
    }
   ],
   "source": [
    "data.groupby('Jenis Kel').mean()['Pendapatan']"
   ]
  },
  {
   "cell_type": "markdown",
   "metadata": {},
   "source": [
    "Pendapatan wanita (F) memiliki rata-rata lebih tinggi dibandingkan rata-rata seluruh pegawai"
   ]
  },
  {
   "cell_type": "markdown",
   "metadata": {},
   "source": [
    "#### 3. Film berjenis apa (Genre) yang lebih banyak dipinjam oleh pelanggan pria dan pelanggan wanita? "
   ]
  },
  {
   "cell_type": "code",
   "execution_count": 55,
   "metadata": {},
   "outputs": [
    {
     "data": {
      "text/plain": [
       "Jenis Kel  Genre \n",
       "M          Action    13\n",
       "           Drama      7\n",
       "           Comedy     6\n",
       "F          Drama     13\n",
       "           Comedy     6\n",
       "           Action     5\n",
       "Name: Total, dtype: int64"
      ]
     },
     "execution_count": 55,
     "metadata": {},
     "output_type": "execute_result"
    }
   ],
   "source": [
    "data.groupby(['Jenis Kel','Genre']).count().sort_values(['Jenis Kel','Total','Genre',],ascending=False)['Total']"
   ]
  },
  {
   "cell_type": "markdown",
   "metadata": {},
   "source": [
    "Pria menyukai genre action (13 orang) sedangkan wanita menyukain genre drama (13 orang)"
   ]
  },
  {
   "cell_type": "markdown",
   "metadata": {},
   "source": [
    "#### 4. Bagaimanakah rata-rata pendapatan pelanggan pria yang menyukai film berjenis komedi (comedy) dibandingkan dengan rata-rata pendapatan semua pelanggan (lebih tinggi, lebih rendah, atau sama)?"
   ]
  },
  {
   "cell_type": "code",
   "execution_count": 75,
   "metadata": {},
   "outputs": [
    {
     "name": "stdout",
     "output_type": "stream",
     "text": [
      "Pendapatan seluruh pegawai: 42300.0\n",
      "Pendapatan pegawai pria yang menyukai Komedi: 41105.26315789474\n"
     ]
    }
   ],
   "source": [
    "print('Pendapatan seluruh pegawai:',data.mean()['Pendapatan'])\n",
    "print('Pendapatan pegawai pria yang menyukai Komedi:',\n",
    "      data.loc[(data['Jenis Kel'] == 'M') & (data['Genre'] <= 'Comedy')].mean()['Pendapatan'])"
   ]
  },
  {
   "cell_type": "markdown",
   "metadata": {},
   "source": [
    "Pendapatan pria yang menyukai komedi lebih rendah dari pendapatan seluruh pegawai"
   ]
  },
  {
   "cell_type": "markdown",
   "metadata": {},
   "source": [
    "#### 5.\tLakukan analisa korelasi antar atribut numerik dalam data (atribut Pendapatan, Umur, Total). Jelaskan apakah hasilnya menunjukkan korelasi yang kuat (positip/negatip) antar atribut-atribut tersebut. NOTE: Jangan lupa menghapus atribut CUST ID ketika menghitung nilai korelasi."
   ]
  },
  {
   "cell_type": "code",
   "execution_count": 76,
   "metadata": {},
   "outputs": [
    {
     "data": {
      "text/html": [
       "<div>\n",
       "<style scoped>\n",
       "    .dataframe tbody tr th:only-of-type {\n",
       "        vertical-align: middle;\n",
       "    }\n",
       "\n",
       "    .dataframe tbody tr th {\n",
       "        vertical-align: top;\n",
       "    }\n",
       "\n",
       "    .dataframe thead th {\n",
       "        text-align: right;\n",
       "    }\n",
       "</style>\n",
       "<table border=\"1\" class=\"dataframe\">\n",
       "  <thead>\n",
       "    <tr style=\"text-align: right;\">\n",
       "      <th></th>\n",
       "      <th>Pendapatan</th>\n",
       "      <th>Umur</th>\n",
       "      <th>Total</th>\n",
       "      <th>Rata-rata</th>\n",
       "    </tr>\n",
       "  </thead>\n",
       "  <tbody>\n",
       "    <tr>\n",
       "      <th>Pendapatan</th>\n",
       "      <td>1.000000</td>\n",
       "      <td>0.627013</td>\n",
       "      <td>-0.274873</td>\n",
       "      <td>0.305221</td>\n",
       "    </tr>\n",
       "    <tr>\n",
       "      <th>Umur</th>\n",
       "      <td>0.627013</td>\n",
       "      <td>1.000000</td>\n",
       "      <td>-0.549611</td>\n",
       "      <td>0.397372</td>\n",
       "    </tr>\n",
       "    <tr>\n",
       "      <th>Total</th>\n",
       "      <td>-0.274873</td>\n",
       "      <td>-0.549611</td>\n",
       "      <td>1.000000</td>\n",
       "      <td>0.070302</td>\n",
       "    </tr>\n",
       "    <tr>\n",
       "      <th>Rata-rata</th>\n",
       "      <td>0.305221</td>\n",
       "      <td>0.397372</td>\n",
       "      <td>0.070302</td>\n",
       "      <td>1.000000</td>\n",
       "    </tr>\n",
       "  </tbody>\n",
       "</table>\n",
       "</div>"
      ],
      "text/plain": [
       "            Pendapatan      Umur     Total  Rata-rata\n",
       "Pendapatan    1.000000  0.627013 -0.274873   0.305221\n",
       "Umur          0.627013  1.000000 -0.549611   0.397372\n",
       "Total        -0.274873 -0.549611  1.000000   0.070302\n",
       "Rata-rata     0.305221  0.397372  0.070302   1.000000"
      ]
     },
     "execution_count": 76,
     "metadata": {},
     "output_type": "execute_result"
    }
   ],
   "source": [
    "data.corr()"
   ]
  },
  {
   "cell_type": "markdown",
   "metadata": {},
   "source": [
    "Korelasi antara umur dan pendapatan memiliki korelasi positif yang cukup tinggi, sehingga semakin tua umur seseorang kemungkinan gajinya lebih tinggi.\n",
    "\n",
    "Korelasi antara umur dan total (?) memiliki korelasi negatif yang lumayan tinggi, sehingga semakin tua umur seseorang semakin rendah totalnya."
   ]
  },
  {
   "cell_type": "markdown",
   "metadata": {},
   "source": [
    "#### 6.\tPilih customer yang berharga, yaitu customer yang memiliki nilai tinggi pada atribut Total (Total >= 30). Buat summary dari data customer yang terpilih ini (misal menggunakan means, medians, modes) terhadap atribut yang lain. Jelaskan apakah anda melihat pola/karakteristik yang berbeda dari customer yang terpilih. Note: Untuk mengetahui apakah ada karakteristik yang berbeda, bandingkan dengan karakteristik dari populasi menggunakan ukuran yang sama (lihat hasil pada nomer 1)."
   ]
  },
  {
   "cell_type": "code",
   "execution_count": 83,
   "metadata": {},
   "outputs": [
    {
     "data": {
      "text/html": [
       "<div>\n",
       "<style scoped>\n",
       "    .dataframe tbody tr th:only-of-type {\n",
       "        vertical-align: middle;\n",
       "    }\n",
       "\n",
       "    .dataframe tbody tr th {\n",
       "        vertical-align: top;\n",
       "    }\n",
       "\n",
       "    .dataframe thead th {\n",
       "        text-align: right;\n",
       "    }\n",
       "</style>\n",
       "<table border=\"1\" class=\"dataframe\">\n",
       "  <thead>\n",
       "    <tr style=\"text-align: right;\">\n",
       "      <th></th>\n",
       "      <th>Pendapatan</th>\n",
       "      <th>Umur</th>\n",
       "      <th>Total</th>\n",
       "      <th>Rata-rata</th>\n",
       "    </tr>\n",
       "  </thead>\n",
       "  <tbody>\n",
       "    <tr>\n",
       "      <th>count</th>\n",
       "      <td>18.000000</td>\n",
       "      <td>18.000000</td>\n",
       "      <td>18.000000</td>\n",
       "      <td>18.000000</td>\n",
       "    </tr>\n",
       "    <tr>\n",
       "      <th>mean</th>\n",
       "      <td>37666.666667</td>\n",
       "      <td>25.166667</td>\n",
       "      <td>37.277778</td>\n",
       "      <td>2.777778</td>\n",
       "    </tr>\n",
       "    <tr>\n",
       "      <th>std</th>\n",
       "      <td>23126.251953</td>\n",
       "      <td>8.290675</td>\n",
       "      <td>5.849138</td>\n",
       "      <td>0.927080</td>\n",
       "    </tr>\n",
       "    <tr>\n",
       "      <th>min</th>\n",
       "      <td>2000.000000</td>\n",
       "      <td>15.000000</td>\n",
       "      <td>30.000000</td>\n",
       "      <td>1.600000</td>\n",
       "    </tr>\n",
       "    <tr>\n",
       "      <th>25%</th>\n",
       "      <td>19500.000000</td>\n",
       "      <td>20.000000</td>\n",
       "      <td>32.250000</td>\n",
       "      <td>2.150000</td>\n",
       "    </tr>\n",
       "    <tr>\n",
       "      <th>50%</th>\n",
       "      <td>31500.000000</td>\n",
       "      <td>23.500000</td>\n",
       "      <td>36.500000</td>\n",
       "      <td>2.550000</td>\n",
       "    </tr>\n",
       "    <tr>\n",
       "      <th>75%</th>\n",
       "      <td>56000.000000</td>\n",
       "      <td>28.750000</td>\n",
       "      <td>41.750000</td>\n",
       "      <td>3.375000</td>\n",
       "    </tr>\n",
       "    <tr>\n",
       "      <th>max</th>\n",
       "      <td>74000.000000</td>\n",
       "      <td>47.000000</td>\n",
       "      <td>48.000000</td>\n",
       "      <td>4.700000</td>\n",
       "    </tr>\n",
       "  </tbody>\n",
       "</table>\n",
       "</div>"
      ],
      "text/plain": [
       "         Pendapatan       Umur      Total  Rata-rata\n",
       "count     18.000000  18.000000  18.000000  18.000000\n",
       "mean   37666.666667  25.166667  37.277778   2.777778\n",
       "std    23126.251953   8.290675   5.849138   0.927080\n",
       "min     2000.000000  15.000000  30.000000   1.600000\n",
       "25%    19500.000000  20.000000  32.250000   2.150000\n",
       "50%    31500.000000  23.500000  36.500000   2.550000\n",
       "75%    56000.000000  28.750000  41.750000   3.375000\n",
       "max    74000.000000  47.000000  48.000000   4.700000"
      ]
     },
     "execution_count": 83,
     "metadata": {},
     "output_type": "execute_result"
    }
   ],
   "source": [
    "data.loc[(data['Total'] >= 30)].describe()"
   ]
  },
  {
   "cell_type": "code",
   "execution_count": 81,
   "metadata": {},
   "outputs": [
    {
     "data": {
      "text/html": [
       "<div>\n",
       "<style scoped>\n",
       "    .dataframe tbody tr th:only-of-type {\n",
       "        vertical-align: middle;\n",
       "    }\n",
       "\n",
       "    .dataframe tbody tr th {\n",
       "        vertical-align: top;\n",
       "    }\n",
       "\n",
       "    .dataframe thead th {\n",
       "        text-align: right;\n",
       "    }\n",
       "</style>\n",
       "<table border=\"1\" class=\"dataframe\">\n",
       "  <thead>\n",
       "    <tr style=\"text-align: right;\">\n",
       "      <th></th>\n",
       "      <th>Pendapatan</th>\n",
       "      <th>Umur</th>\n",
       "      <th>Total</th>\n",
       "      <th>Rata-rata</th>\n",
       "    </tr>\n",
       "  </thead>\n",
       "  <tbody>\n",
       "    <tr>\n",
       "      <th>count</th>\n",
       "      <td>50.000000</td>\n",
       "      <td>50.000000</td>\n",
       "      <td>50.000000</td>\n",
       "      <td>50.000000</td>\n",
       "    </tr>\n",
       "    <tr>\n",
       "      <th>mean</th>\n",
       "      <td>42300.000000</td>\n",
       "      <td>31.560000</td>\n",
       "      <td>26.240000</td>\n",
       "      <td>2.748000</td>\n",
       "    </tr>\n",
       "    <tr>\n",
       "      <th>std</th>\n",
       "      <td>21409.753642</td>\n",
       "      <td>12.000272</td>\n",
       "      <td>10.027635</td>\n",
       "      <td>0.898125</td>\n",
       "    </tr>\n",
       "    <tr>\n",
       "      <th>min</th>\n",
       "      <td>1000.000000</td>\n",
       "      <td>15.000000</td>\n",
       "      <td>9.000000</td>\n",
       "      <td>1.100000</td>\n",
       "    </tr>\n",
       "    <tr>\n",
       "      <th>25%</th>\n",
       "      <td>26750.000000</td>\n",
       "      <td>22.000000</td>\n",
       "      <td>19.000000</td>\n",
       "      <td>2.125000</td>\n",
       "    </tr>\n",
       "    <tr>\n",
       "      <th>50%</th>\n",
       "      <td>41000.000000</td>\n",
       "      <td>30.000000</td>\n",
       "      <td>25.000000</td>\n",
       "      <td>2.750000</td>\n",
       "    </tr>\n",
       "    <tr>\n",
       "      <th>75%</th>\n",
       "      <td>56750.000000</td>\n",
       "      <td>37.500000</td>\n",
       "      <td>32.750000</td>\n",
       "      <td>3.375000</td>\n",
       "    </tr>\n",
       "    <tr>\n",
       "      <th>max</th>\n",
       "      <td>89000.000000</td>\n",
       "      <td>70.000000</td>\n",
       "      <td>48.000000</td>\n",
       "      <td>4.700000</td>\n",
       "    </tr>\n",
       "  </tbody>\n",
       "</table>\n",
       "</div>"
      ],
      "text/plain": [
       "         Pendapatan       Umur      Total  Rata-rata\n",
       "count     50.000000  50.000000  50.000000  50.000000\n",
       "mean   42300.000000  31.560000  26.240000   2.748000\n",
       "std    21409.753642  12.000272  10.027635   0.898125\n",
       "min     1000.000000  15.000000   9.000000   1.100000\n",
       "25%    26750.000000  22.000000  19.000000   2.125000\n",
       "50%    41000.000000  30.000000  25.000000   2.750000\n",
       "75%    56750.000000  37.500000  32.750000   3.375000\n",
       "max    89000.000000  70.000000  48.000000   4.700000"
      ]
     },
     "execution_count": 81,
     "metadata": {},
     "output_type": "execute_result"
    }
   ],
   "source": [
    "data.describe()"
   ]
  },
  {
   "cell_type": "markdown",
   "metadata": {},
   "source": [
    "#### 7a. Lakukan smoothing dengan bin rata-rata pada atribute umur.  Gunakan bin berukuran 4 (bin depth). Buat grafik atribut umur sebelum dan sesudah smoothing."
   ]
  },
  {
   "cell_type": "code",
   "execution_count": 86,
   "metadata": {},
   "outputs": [
    {
     "name": "stderr",
     "output_type": "stream",
     "text": [
      "D:\\Anaconda\\lib\\site-packages\\matplotlib\\axes\\_axes.py:6462: UserWarning: The 'normed' kwarg is deprecated, and has been replaced by the 'density' kwarg.\n",
      "  warnings.warn(\"The 'normed' kwarg is deprecated, and has been \"\n"
     ]
    },
    {
     "data": {
      "text/plain": [
       "<matplotlib.axes._subplots.AxesSubplot at 0x8831785518>"
      ]
     },
     "execution_count": 86,
     "metadata": {},
     "output_type": "execute_result"
    },
    {
     "data": {
      "image/png": "[encoded data removed]",
      "text/plain": [
       "<Figure size 432x288 with 1 Axes>"
      ]
     },
     "metadata": {},
     "output_type": "display_data"
    }
   ],
   "source": [
    "sns.distplot(data['Umur'])"
   ]
  },
  {
   "cell_type": "code",
   "execution_count": 163,
   "metadata": {},
   "outputs": [
    {
     "name": "stderr",
     "output_type": "stream",
     "text": [
      "D:\\Anaconda\\lib\\site-packages\\matplotlib\\axes\\_axes.py:6462: UserWarning: The 'normed' kwarg is deprecated, and has been replaced by the 'density' kwarg.\n",
      "  warnings.warn(\"The 'normed' kwarg is deprecated, and has been \"\n"
     ]
    },
    {
     "data": {
      "text/plain": [
       "<matplotlib.axes._subplots.AxesSubplot at 0x883305a4a8>"
      ]
     },
     "execution_count": 163,
     "metadata": {},
     "output_type": "execute_result"
    },
    {
     "data": {
      "image/png": "[encoded data removed]",
      "text/plain": [
       "<Figure size 432x288 with 1 Axes>"
      ]
     },
     "metadata": {},
     "output_type": "display_data"
    }
   ],
   "source": [
    "data['Umur-bin'] = [(pd.cut(data['Umur'],4)[x].left+pd.cut(data['Umur'],4)[0].right)/2 for x in range(len(data['Umur']))]\n",
    "sns.distplot(data['Umur-bin'])"
   ]
  },
  {
   "cell_type": "markdown",
   "metadata": {},
   "source": [
    "#### 7b.\tLakukan Use min-max normalization untuk mentransformasi nilai atribut Pendapatan ke dalam range [0.0-1.0]."
   ]
  },
  {
   "cell_type": "code",
   "execution_count": 164,
   "metadata": {},
   "outputs": [
    {
     "data": {
      "text/html": [
       "<div>\n",
       "<style scoped>\n",
       "    .dataframe tbody tr th:only-of-type {\n",
       "        vertical-align: middle;\n",
       "    }\n",
       "\n",
       "    .dataframe tbody tr th {\n",
       "        vertical-align: top;\n",
       "    }\n",
       "\n",
       "    .dataframe thead th {\n",
       "        text-align: right;\n",
       "    }\n",
       "</style>\n",
       "<table border=\"1\" class=\"dataframe\">\n",
       "  <thead>\n",
       "    <tr style=\"text-align: right;\">\n",
       "      <th></th>\n",
       "      <th>Jenis Kel</th>\n",
       "      <th>Pendapatan</th>\n",
       "      <th>Umur</th>\n",
       "      <th>Total</th>\n",
       "      <th>Rata-rata</th>\n",
       "      <th>Insidentil</th>\n",
       "      <th>Genre</th>\n",
       "      <th>Umur-bin</th>\n",
       "      <th>Pendapatan-minmax</th>\n",
       "      <th>Total-zscore</th>\n",
       "    </tr>\n",
       "  </thead>\n",
       "  <tbody>\n",
       "    <tr>\n",
       "      <th>0</th>\n",
       "      <td>M</td>\n",
       "      <td>45000</td>\n",
       "      <td>25</td>\n",
       "      <td>27</td>\n",
       "      <td>2.5</td>\n",
       "      <td>Yes</td>\n",
       "      <td>Action</td>\n",
       "      <td>21.8475</td>\n",
       "      <td>0.500000</td>\n",
       "      <td>0.076560</td>\n",
       "    </tr>\n",
       "    <tr>\n",
       "      <th>1</th>\n",
       "      <td>F</td>\n",
       "      <td>54000</td>\n",
       "      <td>33</td>\n",
       "      <td>12</td>\n",
       "      <td>3.4</td>\n",
       "      <td>No</td>\n",
       "      <td>Drama</td>\n",
       "      <td>28.7500</td>\n",
       "      <td>0.602273</td>\n",
       "      <td>-1.434493</td>\n",
       "    </tr>\n",
       "    <tr>\n",
       "      <th>2</th>\n",
       "      <td>F</td>\n",
       "      <td>32000</td>\n",
       "      <td>20</td>\n",
       "      <td>42</td>\n",
       "      <td>1.6</td>\n",
       "      <td>No</td>\n",
       "      <td>Comedy</td>\n",
       "      <td>21.8475</td>\n",
       "      <td>0.352273</td>\n",
       "      <td>1.587613</td>\n",
       "    </tr>\n",
       "    <tr>\n",
       "      <th>3</th>\n",
       "      <td>F</td>\n",
       "      <td>59000</td>\n",
       "      <td>70</td>\n",
       "      <td>16</td>\n",
       "      <td>4.2</td>\n",
       "      <td>Yes</td>\n",
       "      <td>Drama</td>\n",
       "      <td>42.5000</td>\n",
       "      <td>0.659091</td>\n",
       "      <td>-1.031546</td>\n",
       "    </tr>\n",
       "    <tr>\n",
       "      <th>4</th>\n",
       "      <td>M</td>\n",
       "      <td>37000</td>\n",
       "      <td>35</td>\n",
       "      <td>25</td>\n",
       "      <td>3.2</td>\n",
       "      <td>Yes</td>\n",
       "      <td>Action</td>\n",
       "      <td>28.7500</td>\n",
       "      <td>0.409091</td>\n",
       "      <td>-0.124914</td>\n",
       "    </tr>\n",
       "  </tbody>\n",
       "</table>\n",
       "</div>"
      ],
      "text/plain": [
       "  Jenis Kel  Pendapatan  Umur  Total  Rata-rata Insidentil   Genre  Umur-bin  \\\n",
       "0         M       45000    25     27        2.5        Yes  Action   21.8475   \n",
       "1         F       54000    33     12        3.4         No   Drama   28.7500   \n",
       "2         F       32000    20     42        1.6         No  Comedy   21.8475   \n",
       "3         F       59000    70     16        4.2        Yes   Drama   42.5000   \n",
       "4         M       37000    35     25        3.2        Yes  Action   28.7500   \n",
       "\n",
       "   Pendapatan-minmax  Total-zscore  \n",
       "0           0.500000      0.076560  \n",
       "1           0.602273     -1.434493  \n",
       "2           0.352273      1.587613  \n",
       "3           0.659091     -1.031546  \n",
       "4           0.409091     -0.124914  "
      ]
     },
     "execution_count": 164,
     "metadata": {},
     "output_type": "execute_result"
    }
   ],
   "source": [
    "from sklearn.preprocessing import MinMaxScaler\n",
    "scaler = MinMaxScaler()\n",
    "scaler.fit(data[['Pendapatan']])\n",
    "data['Pendapatan-minmax'] = scaler.transform(data[['Pendapatan']])\n",
    "data.head()"
   ]
  },
  {
   "cell_type": "markdown",
   "metadata": {},
   "source": [
    "#### 7c.\tLakukan z-score normalization untuk menstandarkan nilai atribut Total."
   ]
  },
  {
   "cell_type": "code",
   "execution_count": 165,
   "metadata": {},
   "outputs": [
    {
     "data": {
      "text/html": [
       "<div>\n",
       "<style scoped>\n",
       "    .dataframe tbody tr th:only-of-type {\n",
       "        vertical-align: middle;\n",
       "    }\n",
       "\n",
       "    .dataframe tbody tr th {\n",
       "        vertical-align: top;\n",
       "    }\n",
       "\n",
       "    .dataframe thead th {\n",
       "        text-align: right;\n",
       "    }\n",
       "</style>\n",
       "<table border=\"1\" class=\"dataframe\">\n",
       "  <thead>\n",
       "    <tr style=\"text-align: right;\">\n",
       "      <th></th>\n",
       "      <th>Jenis Kel</th>\n",
       "      <th>Pendapatan</th>\n",
       "      <th>Umur</th>\n",
       "      <th>Total</th>\n",
       "      <th>Rata-rata</th>\n",
       "      <th>Insidentil</th>\n",
       "      <th>Genre</th>\n",
       "      <th>Umur-bin</th>\n",
       "      <th>Pendapatan-minmax</th>\n",
       "      <th>Total-zscore</th>\n",
       "    </tr>\n",
       "  </thead>\n",
       "  <tbody>\n",
       "    <tr>\n",
       "      <th>0</th>\n",
       "      <td>M</td>\n",
       "      <td>45000</td>\n",
       "      <td>25</td>\n",
       "      <td>27</td>\n",
       "      <td>2.5</td>\n",
       "      <td>Yes</td>\n",
       "      <td>Action</td>\n",
       "      <td>21.8475</td>\n",
       "      <td>0.500000</td>\n",
       "      <td>0.076560</td>\n",
       "    </tr>\n",
       "    <tr>\n",
       "      <th>1</th>\n",
       "      <td>F</td>\n",
       "      <td>54000</td>\n",
       "      <td>33</td>\n",
       "      <td>12</td>\n",
       "      <td>3.4</td>\n",
       "      <td>No</td>\n",
       "      <td>Drama</td>\n",
       "      <td>28.7500</td>\n",
       "      <td>0.602273</td>\n",
       "      <td>-1.434493</td>\n",
       "    </tr>\n",
       "    <tr>\n",
       "      <th>2</th>\n",
       "      <td>F</td>\n",
       "      <td>32000</td>\n",
       "      <td>20</td>\n",
       "      <td>42</td>\n",
       "      <td>1.6</td>\n",
       "      <td>No</td>\n",
       "      <td>Comedy</td>\n",
       "      <td>21.8475</td>\n",
       "      <td>0.352273</td>\n",
       "      <td>1.587613</td>\n",
       "    </tr>\n",
       "    <tr>\n",
       "      <th>3</th>\n",
       "      <td>F</td>\n",
       "      <td>59000</td>\n",
       "      <td>70</td>\n",
       "      <td>16</td>\n",
       "      <td>4.2</td>\n",
       "      <td>Yes</td>\n",
       "      <td>Drama</td>\n",
       "      <td>42.5000</td>\n",
       "      <td>0.659091</td>\n",
       "      <td>-1.031546</td>\n",
       "    </tr>\n",
       "    <tr>\n",
       "      <th>4</th>\n",
       "      <td>M</td>\n",
       "      <td>37000</td>\n",
       "      <td>35</td>\n",
       "      <td>25</td>\n",
       "      <td>3.2</td>\n",
       "      <td>Yes</td>\n",
       "      <td>Action</td>\n",
       "      <td>28.7500</td>\n",
       "      <td>0.409091</td>\n",
       "      <td>-0.124914</td>\n",
       "    </tr>\n",
       "  </tbody>\n",
       "</table>\n",
       "</div>"
      ],
      "text/plain": [
       "  Jenis Kel  Pendapatan  Umur  Total  Rata-rata Insidentil   Genre  Umur-bin  \\\n",
       "0         M       45000    25     27        2.5        Yes  Action   21.8475   \n",
       "1         F       54000    33     12        3.4         No   Drama   28.7500   \n",
       "2         F       32000    20     42        1.6         No  Comedy   21.8475   \n",
       "3         F       59000    70     16        4.2        Yes   Drama   42.5000   \n",
       "4         M       37000    35     25        3.2        Yes  Action   28.7500   \n",
       "\n",
       "   Pendapatan-minmax  Total-zscore  \n",
       "0           0.500000      0.076560  \n",
       "1           0.602273     -1.434493  \n",
       "2           0.352273      1.587613  \n",
       "3           0.659091     -1.031546  \n",
       "4           0.409091     -0.124914  "
      ]
     },
     "execution_count": 165,
     "metadata": {},
     "output_type": "execute_result"
    }
   ],
   "source": [
    "from scipy.stats import zscore\n",
    "data['Total-zscore'] = data[['Total']].apply(zscore)\n",
    "data.head()"
   ]
  },
  {
   "cell_type": "markdown",
   "metadata": {},
   "source": [
    "#### 7d.\tBuat distance matrik dari pelanggan 1 sampai pelanggan 5 (ukuran matrik adalah 5 x 5) sebelum dan sesudah normalisasi menggunakan min-max (7b) dan z-score (7c). NOTE: jarak dihitung menggunakan atribut Pendapatan dan Total."
   ]
  },
  {
   "cell_type": "code",
   "execution_count": 178,
   "metadata": {},
   "outputs": [
    {
     "name": "stdout",
     "output_type": "stream",
     "text": [
      "Sebelum normalisasi:\n",
      "              0             1             2             3             4\n",
      "0      0.000000   9000.012500  13000.008654  14000.004321   8000.000250\n",
      "1   9000.012500      0.000000  22000.020455   5000.001600  17000.004971\n",
      "2  13000.008654  22000.020455      0.000000  27000.012519   5000.028900\n",
      "3  14000.004321   5000.001600  27000.012519      0.000000  22000.001841\n",
      "4   8000.000250  17000.004971   5000.028900  22000.001841      0.000000\n",
      "\n",
      "Sesudah normalisasi:\n",
      "          0         1         2         3         4\n",
      "0  0.000000  1.514510  1.518257  1.119468  0.221034\n",
      "1  1.514510  0.000000  3.032429  0.406934  1.323751\n",
      "2  1.518257  3.032429  0.000000  2.637068  1.713469\n",
      "3  1.119468  0.406934  2.637068  0.000000  0.940469\n",
      "4  0.221034  1.323751  1.713469  0.940469  0.000000\n"
     ]
    }
   ],
   "source": [
    "from scipy.spatial.distance import squareform, pdist\n",
    "subdata = data.head()\n",
    "print('Sebelum normalisasi:')\n",
    "print(pd.DataFrame(squareform(pdist(subdata[['Pendapatan','Total']].head())), columns=subdata.index, index=subdata.index))\n",
    "print()\n",
    "print('Sesudah normalisasi:')\n",
    "print(pd.DataFrame(squareform(pdist(subdata[['Pendapatan-minmax','Total-zscore']].head())), columns=subdata.index, index=subdata.index))"
   ]
  },
  {
   "cell_type": "markdown",
   "metadata": {},
   "source": [
    "#### 7e.\tUbah atribut Pendapatan (yang belum dinormalisasi) menjadi diskrit menggunakan kategori berikut:: High = 60K+; Mid = 25K-59K; Low = kurang dari $25K. Hitung jumlah pelanggan untuk masing-masing kategori Pendapatan."
   ]
  },
  {
   "cell_type": "code",
   "execution_count": 192,
   "metadata": {},
   "outputs": [
    {
     "data": {
      "text/html": [
       "<div>\n",
       "<style scoped>\n",
       "    .dataframe tbody tr th:only-of-type {\n",
       "        vertical-align: middle;\n",
       "    }\n",
       "\n",
       "    .dataframe tbody tr th {\n",
       "        vertical-align: top;\n",
       "    }\n",
       "\n",
       "    .dataframe thead th {\n",
       "        text-align: right;\n",
       "    }\n",
       "</style>\n",
       "<table border=\"1\" class=\"dataframe\">\n",
       "  <thead>\n",
       "    <tr style=\"text-align: right;\">\n",
       "      <th></th>\n",
       "      <th>Jenis Kel</th>\n",
       "      <th>Pendapatan</th>\n",
       "      <th>Umur</th>\n",
       "      <th>Total</th>\n",
       "      <th>Rata-rata</th>\n",
       "      <th>Insidentil</th>\n",
       "      <th>Genre</th>\n",
       "      <th>Umur-bin</th>\n",
       "      <th>Pendapatan-minmax</th>\n",
       "      <th>Total-zscore</th>\n",
       "      <th>Pendapatan-discrete</th>\n",
       "    </tr>\n",
       "  </thead>\n",
       "  <tbody>\n",
       "    <tr>\n",
       "      <th>0</th>\n",
       "      <td>M</td>\n",
       "      <td>45000</td>\n",
       "      <td>25</td>\n",
       "      <td>27</td>\n",
       "      <td>2.5</td>\n",
       "      <td>Yes</td>\n",
       "      <td>Action</td>\n",
       "      <td>21.8475</td>\n",
       "      <td>0.500000</td>\n",
       "      <td>0.076560</td>\n",
       "      <td>Mid</td>\n",
       "    </tr>\n",
       "    <tr>\n",
       "      <th>1</th>\n",
       "      <td>F</td>\n",
       "      <td>54000</td>\n",
       "      <td>33</td>\n",
       "      <td>12</td>\n",
       "      <td>3.4</td>\n",
       "      <td>No</td>\n",
       "      <td>Drama</td>\n",
       "      <td>28.7500</td>\n",
       "      <td>0.602273</td>\n",
       "      <td>-1.434493</td>\n",
       "      <td>Mid</td>\n",
       "    </tr>\n",
       "    <tr>\n",
       "      <th>2</th>\n",
       "      <td>F</td>\n",
       "      <td>32000</td>\n",
       "      <td>20</td>\n",
       "      <td>42</td>\n",
       "      <td>1.6</td>\n",
       "      <td>No</td>\n",
       "      <td>Comedy</td>\n",
       "      <td>21.8475</td>\n",
       "      <td>0.352273</td>\n",
       "      <td>1.587613</td>\n",
       "      <td>Mid</td>\n",
       "    </tr>\n",
       "    <tr>\n",
       "      <th>3</th>\n",
       "      <td>F</td>\n",
       "      <td>59000</td>\n",
       "      <td>70</td>\n",
       "      <td>16</td>\n",
       "      <td>4.2</td>\n",
       "      <td>Yes</td>\n",
       "      <td>Drama</td>\n",
       "      <td>42.5000</td>\n",
       "      <td>0.659091</td>\n",
       "      <td>-1.031546</td>\n",
       "      <td>Mid</td>\n",
       "    </tr>\n",
       "    <tr>\n",
       "      <th>4</th>\n",
       "      <td>M</td>\n",
       "      <td>37000</td>\n",
       "      <td>35</td>\n",
       "      <td>25</td>\n",
       "      <td>3.2</td>\n",
       "      <td>Yes</td>\n",
       "      <td>Action</td>\n",
       "      <td>28.7500</td>\n",
       "      <td>0.409091</td>\n",
       "      <td>-0.124914</td>\n",
       "      <td>Mid</td>\n",
       "    </tr>\n",
       "  </tbody>\n",
       "</table>\n",
       "</div>"
      ],
      "text/plain": [
       "  Jenis Kel  Pendapatan  Umur  Total  Rata-rata Insidentil   Genre  Umur-bin  \\\n",
       "0         M       45000    25     27        2.5        Yes  Action   21.8475   \n",
       "1         F       54000    33     12        3.4         No   Drama   28.7500   \n",
       "2         F       32000    20     42        1.6         No  Comedy   21.8475   \n",
       "3         F       59000    70     16        4.2        Yes   Drama   42.5000   \n",
       "4         M       37000    35     25        3.2        Yes  Action   28.7500   \n",
       "\n",
       "   Pendapatan-minmax  Total-zscore Pendapatan-discrete  \n",
       "0           0.500000      0.076560                 Mid  \n",
       "1           0.602273     -1.434493                 Mid  \n",
       "2           0.352273      1.587613                 Mid  \n",
       "3           0.659091     -1.031546                 Mid  \n",
       "4           0.409091     -0.124914                 Mid  "
      ]
     },
     "execution_count": 192,
     "metadata": {},
     "output_type": "execute_result"
    }
   ],
   "source": [
    "category_range = [0,25000,60000,np.inf]\n",
    "labels = ['Low','Mid','High']\n",
    "data['Pendapatan-discrete'] = pd.cut(data['Pendapatan'], bins=category_range, labels=labels)\n",
    "data.head()"
   ]
  },
  {
   "cell_type": "code",
   "execution_count": 191,
   "metadata": {},
   "outputs": [
    {
     "data": {
      "text/plain": [
       "Pendapatan-discrete\n",
       "Low     12\n",
       "Mid     28\n",
       "High    10\n",
       "Name: Total, dtype: int64"
      ]
     },
     "execution_count": 191,
     "metadata": {},
     "output_type": "execute_result"
    }
   ],
   "source": [
    "data.groupby('Pendapatan-discrete').count()['Total']"
   ]
  }
 ],
 "metadata": {
  "kernelspec": {
   "display_name": "Python 3",
   "language": "python",
   "name": "python3"
  },
  "language_info": {
   "codemirror_mode": {
    "name": "ipython",
    "version": 3
   },
   "file_extension": ".py",
   "mimetype": "text/x-python",
   "name": "python",
   "nbconvert_exporter": "python",
   "pygments_lexer": "ipython3",
   "version": "3.6.5"
  }
 },
 "nbformat": 4,
 "nbformat_minor": 2
}
